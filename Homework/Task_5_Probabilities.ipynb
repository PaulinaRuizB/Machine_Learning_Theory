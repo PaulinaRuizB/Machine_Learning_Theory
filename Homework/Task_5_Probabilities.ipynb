{
  "nbformat": 4,
  "nbformat_minor": 0,
  "metadata": {
    "colab": {
      "provenance": [],
      "authorship_tag": "ABX9TyNMYODaoEGDIYT+847lt4m/",
      "include_colab_link": true
    },
    "kernelspec": {
      "name": "python3",
      "display_name": "Python 3"
    },
    "language_info": {
      "name": "python"
    }
  },
  "cells": [
    {
      "cell_type": "markdown",
      "metadata": {
        "id": "view-in-github",
        "colab_type": "text"
      },
      "source": [
        "<a href=\"https://colab.research.google.com/github/PaulinaRuizB/Machine_Learning_Theory/blob/main/Homework/Task_5_Probabilities.ipynb\" target=\"_parent\"><img src=\"https://colab.research.google.com/assets/colab-badge.svg\" alt=\"Open In Colab\"/></a>"
      ]
    },
    {
      "cell_type": "markdown",
      "source": [
        "# Probabilidad marginal y condicional\n",
        "\n",
        "En este ejercicio tenemos dos cajas (roja y azul), cada una con una cantidad de frutas (manzanas y naranjas).  \n",
        "Además, tenemos la probabilidad de elegir cada caja:  \n",
        "$$\n",
        "P(B=r), \\quad P(B=b)\n",
        "$$\n",
        "\n",
        "---\n",
        "\n",
        "## 1. Probabilidades marginales de la fruta\n",
        "\n",
        "La probabilidad de obtener una **manzana** al azar es:\n",
        "\n",
        "$$\n",
        "P(F=a) \\;=\\; P(B=r)\\,P(F=a \\mid B=r) \\;+\\; P(B=b)\\,P(F=a \\mid B=b)\n",
        "$$\n",
        "\n",
        "donde:\n",
        "\n",
        "$$\n",
        "P(F=a \\mid B=r) \\;=\\; \\frac{\\text{# manzanas en caja roja}}{\\text{total frutas en caja roja}}\n",
        "$$\n",
        "\n",
        "$$\n",
        "P(F=a \\mid B=b) \\;=\\; \\frac{\\text{# manzanas en caja azul}}{\\text{total frutas en caja azul}}\n",
        "$$\n",
        "\n",
        "De manera análoga, para las **naranjas**:\n",
        "\n",
        "$$\n",
        "P(F=o) \\;=\\; P(B=r)\\,P(F=o \\mid B=r) \\;+\\; P(B=b)\\,P(F=o \\mid B=b)$$\n",
        "\n",
        "---\n",
        "\n",
        "## 2. Probabilidad condicional de la caja dado el tipo de fruta\n",
        "\n",
        "Aplicamos el **teorema de Bayes**:\n",
        "\n",
        "$$P(B=r \\mid F=a) \\;=\\; \\frac{P(F=a \\mid B=r)\\,P(B=r)}{P(F=a)}\n",
        "$$\n",
        "\n",
        "$$P(B=b \\mid F=a) \\;=\\; \\frac{P(F=a \\mid B=b)\\,P(B=b)}{P(F=a)}$$\n",
        "\n",
        "$$P(B=r \\mid F=o) \\;=\\; \\frac{P(F=o \\mid B=r)\\,P(B=r)}{P(F=o)}$$\n",
        "\n",
        "$$P(B=b \\mid F=o) \\;=\\; \\frac{P(F=o \\mid B=b)\\,P(B=b)}{P(F=o)}$$\n"
      ],
      "metadata": {
        "id": "R8As0Ictkxjf"
      }
    },
    {
      "cell_type": "code",
      "execution_count": 1,
      "metadata": {
        "colab": {
          "base_uri": "https://localhost:8080/"
        },
        "id": "Gq1W2BiGSH22",
        "outputId": "eda1a856-356f-4f78-e376-931a4a363cb7"
      },
      "outputs": [
        {
          "output_type": "stream",
          "name": "stdout",
          "text": [
            "P(B) = {'r': 0.4, 'b': 0.6}\n",
            "P(F) = {'o': 0.45000000000000007, 'a': 0.5499999999999999}\n",
            "P(B | F):\n",
            "  P(B=r | F=o) = 0.666667\n",
            "  P(B=b | F=o) = 0.333333\n",
            "  P(B=r | F=a) = 0.181818\n",
            "  P(B=b | F=a) = 0.818182\n"
          ]
        }
      ],
      "source": [
        "# Funciones para proabilidades\n",
        "\n",
        "def _validate(boxes, p_box): #validar los datos ingresados\n",
        "    if abs(sum(p_box.values()) - 1.0) > 1e-12:\n",
        "        raise ValueError(\"Las probabilidades de caja deben sumar 1.\")\n",
        "    for b, fruits in boxes.items():\n",
        "        if any(v < 0 for v in fruits.values()):\n",
        "            raise ValueError(f\"Hay cantidades negativas en la caja '{b}'.\")\n",
        "        if sum(fruits.values()) == 0:\n",
        "            raise ValueError(f\"La caja '{b}' está vacía; no se puede muestrear.\")\n",
        "\n",
        "def _totales_por_caja(boxes):\n",
        "    return {b: sum(frutas.values()) for b, frutas in boxes.items()}\n",
        "\n",
        "def marginales_fruit(boxes, p_box):\n",
        "    \"\"\"\n",
        "    boxes: dict de cajas -> dict de fruta -> cantidad (>=0)\n",
        "           p.ej.: {\"r\": {\"a\":2, \"o\":6}, \"b\":{\"a\":3, \"o\":1}}\n",
        "    p_box: dict de P(B=b) que suma 1, p.ej.: {\"r\":0.4, \"b\":0.6}\n",
        "    return: dict fruit -> P(F=fruit)\n",
        "    \"\"\"\n",
        "    _validate(boxes, p_box)\n",
        "    total = _totales_por_caja(boxes)\n",
        "\n",
        "    # recolectar todos los tipos de fruta que aparecen en alguna caja\n",
        "    tipos = set().union(*[set(frutas.keys()) for frutas in boxes.values()])\n",
        "\n",
        "    p_fruit = {}\n",
        "    for f in tipos:\n",
        "        p_f = 0.0\n",
        "        for b in boxes:\n",
        "            cnt_f = boxes[b].get(f, 0)\n",
        "            p_f += p_box[b] * (cnt_f / total[b])\n",
        "        p_fruit[f] = p_f\n",
        "    return p_fruit\n",
        "\n",
        "def cond_box_dado_fruit(boxes, p_box, fruit):\n",
        "    \"\"\"\n",
        "    Devuelve P(B=b | F=fruit) para todas las cajas.\n",
        "    \"\"\"\n",
        "    _validate(boxes, p_box)\n",
        "    total = _totales_por_caja(boxes)\n",
        "    p_fruit_all = marginales_fruit(boxes, p_box)\n",
        "\n",
        "    if p_fruit_all.get(fruit, 0.0) == 0.0:\n",
        "        raise ValueError(f\"P(F={fruit}) = 0; la fruta no aparece en ninguna caja.\")\n",
        "\n",
        "    res = {}\n",
        "    for b in boxes:\n",
        "        p_f_dado_b = boxes[b].get(fruit, 0) / total[b]\n",
        "        res[b] = p_f_dado_b * p_box[b] / p_fruit_all[fruit]  # Bayes\n",
        "    return res\n",
        "\n",
        "def resumen(boxes, p_box):\n",
        "    \"\"\"\n",
        "    Devuelve:\n",
        "      - P(B=b) (igual a p_box)\n",
        "      - P(F=f) para cada fruta\n",
        "      - P(B=b | F=f) para cada fruta\n",
        "    \"\"\"\n",
        "    p_f = marginales_fruit(boxes, p_box)\n",
        "    cond = {f: cond_box_dado_fruit(boxes, p_box, f) for f in p_f.keys()}\n",
        "    return p_box, p_f, cond\n",
        "\n",
        "\n",
        "# ======================\n",
        "# EJEMPLO DEL EJERCICIO\n",
        "# ======================\n",
        "boxes = {\n",
        "    \"r\": {\"a\": 2, \"o\": 6},  # caja roja\n",
        "    \"b\": {\"a\": 3, \"o\": 1},  # caja azul\n",
        "}\n",
        "p_box = {\"r\": 0.4, \"b\": 0.6}\n",
        "\n",
        "pB, pF, cond = resumen(boxes, p_box)\n",
        "\n",
        "print(\"P(B) =\", pB)\n",
        "print(\"P(F) =\", pF)\n",
        "print(\"P(B | F):\")\n",
        "for f, d in cond.items():\n",
        "    for b, v in d.items():\n",
        "        print(f\"  P(B={b} | F={f}) = {v:.6f}\")\n"
      ]
    }
  ]
}